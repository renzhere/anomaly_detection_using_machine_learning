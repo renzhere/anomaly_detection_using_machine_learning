{
  "nbformat": 4,
  "nbformat_minor": 0,
  "metadata": {
    "colab": {
      "name": "fraud_assignment2.ipynb",
      "version": "0.3.2",
      "provenance": []
    },
    "kernelspec": {
      "name": "python3",
      "display_name": "Python 3"
    }
  },
  "cells": [
    {
      "cell_type": "code",
      "metadata": {
        "id": "GKIiV_3Ndtby",
        "colab_type": "code",
        "colab": {}
      },
      "source": [
        "import pandas as pd\n",
        "import numpy as np\n",
        "import matplotlib.pyplot as plt\n",
        "\n",
        "from sklearn.cluster import KMeans\n",
        "from sklearn.preprocessing import LabelEncoder\n",
        "from sklearn.preprocessing import MinMaxScaler\n",
        "import seaborn as sns"
      ],
      "execution_count": 0,
      "outputs": []
    },
    {
      "cell_type": "code",
      "metadata": {
        "id": "WY29EvJkdyxk",
        "colab_type": "code",
        "outputId": "c33b17d5-c318-42f0-d2ce-a074d7a51c6a",
        "colab": {
          "base_uri": "https://localhost:8080/",
          "height": 124
        }
      },
      "source": [
        "from google.colab import drive\n",
        "drive.mount('/content/gdrive')"
      ],
      "execution_count": 0,
      "outputs": [
        {
          "output_type": "stream",
          "text": [
            "Go to this URL in a browser: https://accounts.google.com/o/oauth2/auth?client_id=947318989803-6bn6qk8qdgf4n4g3pfee6491hc0brc4i.apps.googleusercontent.com&redirect_uri=urn%3Aietf%3Awg%3Aoauth%3A2.0%3Aoob&scope=email%20https%3A%2F%2Fwww.googleapis.com%2Fauth%2Fdocs.test%20https%3A%2F%2Fwww.googleapis.com%2Fauth%2Fdrive%20https%3A%2F%2Fwww.googleapis.com%2Fauth%2Fdrive.photos.readonly%20https%3A%2F%2Fwww.googleapis.com%2Fauth%2Fpeopleapi.readonly&response_type=code\n",
            "\n",
            "Enter your authorization code:\n",
            "··········\n",
            "Mounted at /content/gdrive\n"
          ],
          "name": "stdout"
        }
      ]
    },
    {
      "cell_type": "code",
      "metadata": {
        "id": "ko28L_rPd9Fk",
        "colab_type": "code",
        "outputId": "9b3a9b77-bd67-4742-9d23-1d5ae41e2c7a",
        "colab": {
          "base_uri": "https://localhost:8080/",
          "height": 208
        }
      },
      "source": [
        "data = pd.read_csv('/content/gdrive/My Drive/Colab Notebooks/ASSIGNMENTS/FA_assignment/multihop-outdoor-moteid1-data-converted_wo_head.csv', \n",
        "                   delimiter= ',')\n",
        "print(data.head(10))"
      ],
      "execution_count": 0,
      "outputs": [
        {
          "output_type": "stream",
          "text": [
            "   Reading#  Mote ID  Humidity  Tepmrature  Label\n",
            "0         1        1     43.82       30.21      0\n",
            "1         2        1     43.79       30.20      0\n",
            "2         3        1     43.79       30.19      0\n",
            "3         4        1     43.79       30.19      0\n",
            "4         5        1     43.79       30.19      0\n",
            "5         6        1     43.79       30.19      0\n",
            "6         7        1     43.79       30.19      0\n",
            "7         8        1     43.79       30.19      0\n",
            "8         9        1     43.79       30.21      0\n",
            "9        10        1     43.79       30.22      0\n"
          ],
          "name": "stdout"
        }
      ]
    },
    {
      "cell_type": "code",
      "metadata": {
        "id": "QbPPufXYeENL",
        "colab_type": "code",
        "colab": {}
      },
      "source": [
        "xtrain = data.iloc[:, 0:-1]\n",
        "ytrain = data.iloc[:, -1]"
      ],
      "execution_count": 0,
      "outputs": []
    },
    {
      "cell_type": "code",
      "metadata": {
        "id": "coM8VFu9Tn1c",
        "colab_type": "code",
        "colab": {}
      },
      "source": [
        "true_labels = np.array(ytrain)"
      ],
      "execution_count": 0,
      "outputs": []
    },
    {
      "cell_type": "code",
      "metadata": {
        "id": "0_9J9SCEfePS",
        "colab_type": "code",
        "outputId": "bdc26593-e1cc-41f4-8df1-179468c908d0",
        "colab": {
          "base_uri": "https://localhost:8080/",
          "height": 35
        }
      },
      "source": [
        "kmeans = KMeans(n_clusters=4, random_state=0)\n",
        "clusters = kmeans.fit_predict(xtrain)\n",
        "kmeans.cluster_centers_.shape"
      ],
      "execution_count": 0,
      "outputs": [
        {
          "output_type": "execute_result",
          "data": {
            "text/plain": [
              "(4, 4)"
            ]
          },
          "metadata": {
            "tags": []
          },
          "execution_count": 14
        }
      ]
    },
    {
      "cell_type": "code",
      "metadata": {
        "id": "CCrI7m6ZVfgu",
        "colab_type": "code",
        "colab": {}
      },
      "source": [
        ""
      ],
      "execution_count": 0,
      "outputs": []
    },
    {
      "cell_type": "code",
      "metadata": {
        "id": "MCgyFLJPvrC-",
        "colab_type": "code",
        "colab": {}
      },
      "source": [
        "kmns = KMeans(n_clusters=4, random_state=0).fit(xtrain)\n",
        "core_samples_mask = np.zeros_like(kmns.labels_, dtype=bool)\n",
        "# core_samples_mask[kmns.core_sample_indices_] = True\n",
        "labels_kmns = kmns.labels_"
      ],
      "execution_count": 0,
      "outputs": []
    },
    {
      "cell_type": "code",
      "metadata": {
        "id": "SOPPyeuFVon3",
        "colab_type": "code",
        "colab": {}
      },
      "source": [
        "labels_kmeans = np.zeros_like(clusters)"
      ],
      "execution_count": 0,
      "outputs": []
    },
    {
      "cell_type": "code",
      "metadata": {
        "id": "laKcrgGlfw58",
        "colab_type": "code",
        "outputId": "2e08bd8e-d307-4570-b0f7-6b602b1e4f45",
        "colab": {
          "base_uri": "https://localhost:8080/",
          "height": 35
        }
      },
      "source": [
        "from sklearn.metrics import accuracy_score\n",
        "accuracy_score(labels_kmeans, ytrain)"
      ],
      "execution_count": 0,
      "outputs": [
        {
          "output_type": "execute_result",
          "data": {
            "text/plain": [
              "0.9876332622601279"
            ]
          },
          "metadata": {
            "tags": []
          },
          "execution_count": 20
        }
      ]
    },
    {
      "cell_type": "code",
      "metadata": {
        "id": "ZDxKL2_-4f6N",
        "colab_type": "code",
        "outputId": "8e9385bf-7fac-4635-8d82-c0811a75ac84",
        "colab": {
          "base_uri": "https://localhost:8080/",
          "height": 299
        }
      },
      "source": [
        "plt.scatter(xtrain.iloc[:,0], xtrain.iloc[:,3],c=labels_kmeans, cmap='Paired')\n",
        "plt.title(\"K-means\")"
      ],
      "execution_count": 0,
      "outputs": [
        {
          "output_type": "execute_result",
          "data": {
            "text/plain": [
              "Text(0.5, 1.0, 'K-means')"
            ]
          },
          "metadata": {
            "tags": []
          },
          "execution_count": 54
        },
        {
          "output_type": "display_data",
          "data": {
            "image/png": "[encoded data removed]",
            "text/plain": [
              "<Figure size 432x288 with 1 Axes>"
            ]
          },
          "metadata": {
            "tags": []
          }
        }
      ]
    },
    {
      "cell_type": "code",
      "metadata": {
        "id": "o0z0P3MigzSO",
        "colab_type": "code",
        "outputId": "d60ed051-9dcb-4d8f-d90f-ca9e6e82d871",
        "colab": {
          "base_uri": "https://localhost:8080/",
          "height": 52
        }
      },
      "source": [
        "# from sklearn.metrics import confusion_matrix\n",
        "# mat = confusion_matrix(labels_kmeans, ytrain)\n",
        "# sns.heatmap(mat.T, square=True, annot=True, fmt='d', cbar=False,\n",
        "#             xticklabels=labels_kmeans,\n",
        "#             yticklabels=ytrain)\n",
        "# plt.xlabel('true label')\n",
        "# plt.ylabel('predicted label');\n",
        "\n",
        "from sklearn.metrics import confusion_matrix\n",
        "confusion_matrix(ytrain, labels_kmeans)"
      ],
      "execution_count": 0,
      "outputs": [
        {
          "output_type": "execute_result",
          "data": {
            "text/plain": [
              "array([[4632,    0],\n",
              "       [  58,    0]])"
            ]
          },
          "metadata": {
            "tags": []
          },
          "execution_count": 41
        }
      ]
    },
    {
      "cell_type": "code",
      "metadata": {
        "id": "Yne22-mvVFrr",
        "colab_type": "code",
        "outputId": "c6cfe3a2-d487-49c7-bfe9-5aa760631655",
        "colab": {
          "base_uri": "https://localhost:8080/",
          "height": 89
        }
      },
      "source": [
        "from sklearn.metrics import f1_score\n",
        "f1_score(ytrain, labels_kmeans, average='macro') "
      ],
      "execution_count": 0,
      "outputs": [
        {
          "output_type": "stream",
          "text": [
            "/usr/local/lib/python3.6/dist-packages/sklearn/metrics/classification.py:1143: UndefinedMetricWarning: F-score is ill-defined and being set to 0.0 in labels with no predicted samples.\n",
            "  'precision', 'predicted', average, warn_for)\n"
          ],
          "name": "stderr"
        },
        {
          "output_type": "execute_result",
          "data": {
            "text/plain": [
              "0.49688907959665307"
            ]
          },
          "metadata": {
            "tags": []
          },
          "execution_count": 21
        }
      ]
    },
    {
      "cell_type": "code",
      "metadata": {
        "id": "BFHE48v7WQVd",
        "colab_type": "code",
        "outputId": "3ad2caa4-c344-4c15-e561-63895da17acf",
        "colab": {
          "base_uri": "https://localhost:8080/",
          "height": 35
        }
      },
      "source": [
        "from sklearn.metrics import average_precision_score\n",
        "average_precision_score(ytrain, labels_kmeans)"
      ],
      "execution_count": 0,
      "outputs": [
        {
          "output_type": "execute_result",
          "data": {
            "text/plain": [
              "0.012366737739872069"
            ]
          },
          "metadata": {
            "tags": []
          },
          "execution_count": 23
        }
      ]
    },
    {
      "cell_type": "code",
      "metadata": {
        "id": "ndFHWpulWdcX",
        "colab_type": "code",
        "outputId": "f65c6b87-928f-4a57-82b7-f7338df1ad6a",
        "colab": {
          "base_uri": "https://localhost:8080/",
          "height": 35
        }
      },
      "source": [
        "from sklearn.metrics import precision_recall_curve\n",
        "precision, recall, _ = precision_recall_curve(ytrain, labels_kmeans)\n",
        "print(precision, recall)"
      ],
      "execution_count": 0,
      "outputs": [
        {
          "output_type": "stream",
          "text": [
            "[0.01236674 1.        ] [1. 0.]\n"
          ],
          "name": "stdout"
        }
      ]
    },
    {
      "cell_type": "code",
      "metadata": {
        "id": "ViDvh7vO_xGK",
        "colab_type": "code",
        "outputId": "95e6ce34-2b4b-4071-9a99-03adb93da481",
        "colab": {
          "base_uri": "https://localhost:8080/",
          "height": 283
        }
      },
      "source": [
        "from sklearn.metrics import confusion_matrix\n",
        "\n",
        "cm = confusion_matrix(ytrain, labels_kmeans)\n",
        "plt.imshow(cm,interpolation='none',cmap='Blues')\n",
        "\n",
        "for (i, j), z in np.ndenumerate(cm):\n",
        "    plt.text(j, i, z, ha='center', va='center')\n",
        "    \n",
        "plt.xlabel(\"kmeans label\")\n",
        "plt.ylabel(\"truth label\")\n",
        "plt.show()"
      ],
      "execution_count": 0,
      "outputs": [
        {
          "output_type": "display_data",
          "data": {
            "image/png": "[encoded data removed]",
            "text/plain": [
              "<Figure size 432x288 with 1 Axes>"
            ]
          },
          "metadata": {
            "tags": []
          }
        }
      ]
    },
    {
      "cell_type": "code",
      "metadata": {
        "id": "ytokNUb7wRkj",
        "colab_type": "code",
        "outputId": "44d50b3e-9fc1-4cb9-b913-9b0897e71bfe",
        "colab": {
          "base_uri": "https://localhost:8080/",
          "height": 89
        }
      },
      "source": [
        "from sklearn import metrics\n",
        "\n",
        "true_labels = np.array(ytrain)\n",
        "\n",
        "ARI = metrics.adjusted_rand_score(true_labels, labels_kmeans) \n",
        "\n",
        "MI = metrics.adjusted_mutual_info_score(true_labels, labels_kmeans)\n",
        "\n",
        "print(ARI, MI)"
      ],
      "execution_count": 0,
      "outputs": [
        {
          "output_type": "stream",
          "text": [
            "0.0 -1.0416589338815997e-16\n"
          ],
          "name": "stdout"
        },
        {
          "output_type": "stream",
          "text": [
            "/usr/local/lib/python3.6/dist-packages/sklearn/metrics/cluster/supervised.py:732: FutureWarning: The behavior of AMI will change in version 0.22. To match the behavior of 'v_measure_score', AMI will use average_method='arithmetic' by default.\n",
            "  FutureWarning)\n"
          ],
          "name": "stderr"
        }
      ]
    },
    {
      "cell_type": "code",
      "metadata": {
        "id": "mXPb6BgSqSnp",
        "colab_type": "code",
        "colab": {}
      },
      "source": [
        "# from sklearn.cluster import OPTICS, cluster_optics_dbscan\n",
        "\n",
        "# clust2 = OPTICS(min_samples=50, xi=.05, min_cluster_size=.05)\n",
        "\n",
        "# # Run the fit\n",
        "# clust2.fit(xtrain)"
      ],
      "execution_count": 0,
      "outputs": []
    },
    {
      "cell_type": "code",
      "metadata": {
        "id": "AUxi-keKkl7N",
        "colab_type": "code",
        "colab": {}
      },
      "source": [
        "data2 = data"
      ],
      "execution_count": 0,
      "outputs": []
    },
    {
      "cell_type": "code",
      "metadata": {
        "id": "qjfmSGxotnbe",
        "colab_type": "code",
        "colab": {}
      },
      "source": [
        ""
      ],
      "execution_count": 0,
      "outputs": []
    },
    {
      "cell_type": "code",
      "metadata": {
        "id": "6Z05-pP6kBaA",
        "colab_type": "code",
        "colab": {}
      },
      "source": [
        "from sklearn import preprocessing\n",
        "from sklearn.preprocessing import StandardScaler\n",
        "from sklearn.decomposition import PCA\n",
        "\n",
        "min_max_scaler = preprocessing.StandardScaler()\n",
        "np_scaled = min_max_scaler.fit_transform(data2)\n",
        "\n",
        "data2 = pd.DataFrame(np_scaled)\n",
        "\n",
        "pca = PCA(n_components=2)\n",
        "data = pca.fit_transform(data2)\n",
        "\n",
        "# standardize these 2 new features\n",
        "min_max_scaler = preprocessing.StandardScaler()\n",
        "np_scaled = min_max_scaler.fit_transform(data)\n",
        "data = pd.DataFrame(np_scaled)"
      ],
      "execution_count": 0,
      "outputs": []
    },
    {
      "cell_type": "code",
      "metadata": {
        "id": "Xbm52ylvoJXG",
        "colab_type": "code",
        "outputId": "32e506af-25de-4215-a6f2-0b9a19654bb6",
        "colab": {
          "base_uri": "https://localhost:8080/",
          "height": 269
        }
      },
      "source": [
        "n_cluster = range(1, 6)\n",
        "kmeans = [KMeans(n_clusters=i).fit(data2) for i in n_cluster]\n",
        "scores = [kmeans[i].score(data2) for i in range(len(kmeans))]\n",
        "fig, ax = plt.subplots()\n",
        "ax.plot(n_cluster, scores)\n",
        "plt.show()"
      ],
      "execution_count": 0,
      "outputs": [
        {
          "output_type": "display_data",
          "data": {
            "image/png": "[encoded data removed]",
            "text/plain": [
              "<Figure size 432x288 with 1 Axes>"
            ]
          },
          "metadata": {
            "tags": []
          }
        }
      ]
    },
    {
      "cell_type": "code",
      "metadata": {
        "id": "MS-lDlezo0o3",
        "colab_type": "code",
        "outputId": "e4b1ef68-dd81-42e1-dac2-1d7a9b5f59ac",
        "colab": {
          "base_uri": "https://localhost:8080/",
          "height": 121
        }
      },
      "source": [
        "# if taking feature 0 and feature 1 as the principal components\n",
        "data['cluster'] = kmeans[4].predict(data2)\n",
        "data['principal_feature1'] = data[0]\n",
        "data['principal_feature2'] = data[1]\n",
        "data['cluster'].value_counts()"
      ],
      "execution_count": 0,
      "outputs": [
        {
          "output_type": "execute_result",
          "data": {
            "text/plain": [
              "0    1384\n",
              "3    1321\n",
              "1    1202\n",
              "4     725\n",
              "2      58\n",
              "Name: cluster, dtype: int64"
            ]
          },
          "metadata": {
            "tags": []
          },
          "execution_count": 71
        }
      ]
    },
    {
      "cell_type": "code",
      "metadata": {
        "id": "0Snut3B5qFVA",
        "colab_type": "code",
        "outputId": "ef8208d7-f1f5-487d-e26c-2475001e77cb",
        "colab": {
          "base_uri": "https://localhost:8080/",
          "height": 269
        }
      },
      "source": [
        "fig, ax = plt.subplots()\n",
        "colors = {0:'red', 1:'blue', 2:'green', 3:'pink', 4:'black'}\n",
        "ax.scatter(data['principal_feature1'], data['principal_feature2'], \n",
        "           c=data[\"cluster\"].apply(lambda x: colors[x]))\n",
        "plt.show()"
      ],
      "execution_count": 0,
      "outputs": [
        {
          "output_type": "display_data",
          "data": {
            "image/png": "[encoded data removed]",
            "text/plain": [
              "<Figure size 432x288 with 1 Axes>"
            ]
          },
          "metadata": {
            "tags": []
          }
        }
      ]
    },
    {
      "cell_type": "code",
      "metadata": {
        "id": "bDcAdn5mqjOY",
        "colab_type": "code",
        "outputId": "0a001ddd-50cf-497d-8d3a-a285e926a5d9",
        "colab": {
          "base_uri": "https://localhost:8080/",
          "height": 121
        }
      },
      "source": [
        "data['cluster'] = kmeans[4].predict(data2)\n",
        "data['principal_feature1'] = data[0]\n",
        "data['principal_feature2'] = data[1]\n",
        "data['cluster'].value_counts()"
      ],
      "execution_count": 0,
      "outputs": [
        {
          "output_type": "execute_result",
          "data": {
            "text/plain": [
              "0    1384\n",
              "3    1321\n",
              "1    1202\n",
              "4     725\n",
              "2      58\n",
              "Name: cluster, dtype: int64"
            ]
          },
          "metadata": {
            "tags": []
          },
          "execution_count": 78
        }
      ]
    },
    {
      "cell_type": "code",
      "metadata": {
        "id": "P4JrvvV5ybh8",
        "colab_type": "code",
        "outputId": "e2790f97-9429-4306-8721-01977dbb2569",
        "colab": {
          "base_uri": "https://localhost:8080/",
          "height": 521
        }
      },
      "source": [
        "from sklearn import preprocessing\n",
        "from sklearn.preprocessing import StandardScaler\n",
        "from sklearn.decomposition import PCA\n",
        "\n",
        "min_max_scaler = preprocessing.StandardScaler()\n",
        "np_scaled = min_max_scaler.fit_transform(data2)\n",
        "\n",
        "data2 = pd.DataFrame(np_scaled)\n",
        "\n",
        "pca = PCA(n_components=2)\n",
        "data = pca.fit_transform(data2)\n",
        "\n",
        "# standardize these 2 new features\n",
        "min_max_scaler = preprocessing.StandardScaler()\n",
        "np_scaled = min_max_scaler.fit_transform(data)\n",
        "data = pd.DataFrame(np_scaled)\n",
        "\n",
        "n_cluster = range(1, 5)\n",
        "kmeans = [KMeans(n_clusters=i).fit(data2) for i in n_cluster]\n",
        "scores = [kmeans[i].score(data2) for i in range(len(kmeans))]\n",
        "fig, ax = plt.subplots()\n",
        "ax.plot(n_cluster, scores)\n",
        "plt.show()\n",
        "\n",
        "# if taking feature 0 and feature 1 as the principal components\n",
        "data['cluster'] = kmeans[3].predict(data2)\n",
        "data['principal_feature1'] = data[0]\n",
        "data['principal_feature2'] = data[1]\n",
        "data['cluster'].value_counts()\n",
        "\n",
        "\n",
        "fig, ax = plt.subplots()\n",
        "colors = {0:'red', 1:'blue', 2:'green', 3:'pink', 4:'black'}\n",
        "ax.scatter(data['principal_feature1'], data['principal_feature2'], \n",
        "           c=data[\"cluster\"].apply(lambda x: colors[x]))\n",
        "plt.show()"
      ],
      "execution_count": 0,
      "outputs": [
        {
          "output_type": "display_data",
          "data": {
            "image/png": "[encoded data removed]",
            "text/plain": [
              "<Figure size 432x288 with 1 Axes>"
            ]
          },
          "metadata": {
            "tags": []
          }
        },
        {
          "output_type": "display_data",
          "data": {
            "image/png": "[encoded data removed]",
            "text/plain": [
              "<Figure size 432x288 with 1 Axes>"
            ]
          },
          "metadata": {
            "tags": []
          }
        }
      ]
    },
    {
      "cell_type": "code",
      "metadata": {
        "id": "PMVvCrZcBFgm",
        "colab_type": "code",
        "outputId": "95640f07-62e7-475a-b961-c54285105c2e",
        "colab": {
          "base_uri": "https://localhost:8080/",
          "height": 324
        }
      },
      "source": [
        "outliers_fraction = 0.3\n",
        "\n",
        "\n",
        "def getDistanceByPoint(data, model):\n",
        "    distance = pd.Series()\n",
        "    for i in range(0,len(data)):\n",
        "        Xa = np.array(data.loc[i])\n",
        "        Xb = model.cluster_centers_[model.labels_[i]-1]\n",
        "        distance.set_value(i, np.linalg.norm(Xa-Xb))\n",
        "    return distance\n",
        "\n",
        "\n",
        "\n",
        "distance = getDistanceByPoint(data2, kmeans[3])\n",
        "number_of_outliers = int(outliers_fraction*len(distance))\n",
        "threshold = distance.nlargest(number_of_outliers).min()\n",
        "# anomaly21 contain the anomaly result of method 2.1 Cluster (0:normal, 1:anomaly) \n",
        "data['anomaly21'] = (distance >= threshold).astype(int)\n",
        "\n",
        "\n",
        "fig, ax = plt.subplots()\n",
        "colors = {0:'blue', 1:'red'}\n",
        "ax.scatter(data['principal_feature1'], data['principal_feature2'], c=data[\"anomaly21\"].apply(lambda x: colors[x]))\n",
        "plt.show()"
      ],
      "execution_count": 0,
      "outputs": [
        {
          "output_type": "stream",
          "text": [
            "/usr/local/lib/python3.6/dist-packages/ipykernel_launcher.py:9: FutureWarning: set_value is deprecated and will be removed in a future release. Please use .at[] or .iat[] accessors instead\n",
            "  if __name__ == '__main__':\n"
          ],
          "name": "stderr"
        },
        {
          "output_type": "display_data",
          "data": {
            "image/png": "[encoded data removed]",
            "text/plain": [
              "<Figure size 432x288 with 1 Axes>"
            ]
          },
          "metadata": {
            "tags": []
          }
        }
      ]
    },
    {
      "cell_type": "code",
      "metadata": {
        "id": "a1mleg9cU_qP",
        "colab_type": "code",
        "colab": {}
      },
      "source": [
        ""
      ],
      "execution_count": 0,
      "outputs": []
    },
    {
      "cell_type": "code",
      "metadata": {
        "id": "4VS18Fg8y4de",
        "colab_type": "code",
        "outputId": "5cfc0909-9767-403d-ee92-8fe560549713",
        "colab": {
          "base_uri": "https://localhost:8080/",
          "height": 521
        }
      },
      "source": [
        "from sklearn import preprocessing\n",
        "from sklearn.preprocessing import StandardScaler\n",
        "from sklearn.decomposition import PCA\n",
        "\n",
        "min_max_scaler = preprocessing.StandardScaler()\n",
        "np_scaled = min_max_scaler.fit_transform(data2)\n",
        "\n",
        "data2 = pd.DataFrame(np_scaled)\n",
        "\n",
        "pca = PCA(n_components=2)\n",
        "data = pca.fit_transform(data2)\n",
        "\n",
        "# standardize these 2 new features\n",
        "min_max_scaler = preprocessing.StandardScaler()\n",
        "np_scaled = min_max_scaler.fit_transform(data)\n",
        "data = pd.DataFrame(np_scaled)\n",
        "\n",
        "\n",
        "n_cluster = range(1, 7)\n",
        "kmeans = [KMeans(n_clusters=i).fit(data2) for i in n_cluster]\n",
        "scores = [kmeans[i].score(data2) for i in range(len(kmeans))]\n",
        "fig, ax = plt.subplots()\n",
        "ax.plot(n_cluster, scores)\n",
        "plt.show()\n",
        "\n",
        "# if taking feature 0 and feature 1 as the principal components\n",
        "data['cluster'] = kmeans[5].predict(data2)\n",
        "data['principal_feature1'] = data[0]\n",
        "data['principal_feature2'] = data[1]\n",
        "data['cluster'].value_counts()\n",
        "\n",
        "\n",
        "fig, ax = plt.subplots()\n",
        "colors = {0:'red', 1:'blue', 2:'green', 3:'pink', 4:'yellow', 5:'cyan', 6:'purple'}\n",
        "ax.scatter(data['principal_feature1'], data['principal_feature2'], \n",
        "           c=data[\"cluster\"].apply(lambda x: colors[x]))\n",
        "plt.show()"
      ],
      "execution_count": 0,
      "outputs": [
        {
          "output_type": "display_data",
          "data": {
            "image/png": "[encoded data removed]",
            "text/plain": [
              "<Figure size 432x288 with 1 Axes>"
            ]
          },
          "metadata": {
            "tags": []
          }
        },
        {
          "output_type": "display_data",
          "data": {
            "image/png": "[encoded data removed]",
            "text/plain": [
              "<Figure size 432x288 with 1 Axes>"
            ]
          },
          "metadata": {
            "tags": []
          }
        }
      ]
    },
    {
      "cell_type": "code",
      "metadata": {
        "id": "gTvP79G90Nzb",
        "colab_type": "code",
        "outputId": "a26be7d9-540e-4856-e0da-61cf297c792a",
        "colab": {
          "base_uri": "https://localhost:8080/",
          "height": 521
        }
      },
      "source": [
        "from sklearn import preprocessing\n",
        "from sklearn.preprocessing import StandardScaler\n",
        "from sklearn.decomposition import PCA\n",
        "\n",
        "min_max_scaler = preprocessing.StandardScaler()\n",
        "np_scaled = min_max_scaler.fit_transform(data2)\n",
        "\n",
        "data2 = pd.DataFrame(np_scaled)\n",
        "\n",
        "pca = PCA(n_components=2)\n",
        "data = pca.fit_transform(data2)\n",
        "\n",
        "# standardize these 2 new features\n",
        "min_max_scaler = preprocessing.StandardScaler()\n",
        "np_scaled = min_max_scaler.fit_transform(data)\n",
        "data = pd.DataFrame(np_scaled)\n",
        "\n",
        "n_cluster = range(1, 6)\n",
        "kmeans = [KMeans(n_clusters=i).fit(data2) for i in n_cluster]\n",
        "scores = [kmeans[i].score(data2) for i in range(len(kmeans))]\n",
        "fig, ax = plt.subplots()\n",
        "ax.plot(n_cluster, scores)\n",
        "plt.show()\n",
        "\n",
        "# if taking feature 0 and feature 1 as the principal components\n",
        "data['cluster'] = kmeans[4].predict(data2)\n",
        "data['principal_feature1'] = data[0]\n",
        "data['principal_feature2'] = data[1]\n",
        "data['cluster'].value_counts()\n",
        "\n",
        "\n",
        "fig, ax = plt.subplots()\n",
        "colors = {0:'red', 1:'blue', 2:'green', 3:'pink', 4:'black', 5:'cyan'}\n",
        "ax.scatter(data['principal_feature1'], data['principal_feature2'], \n",
        "           c=data[\"cluster\"].apply(lambda x: colors[x]))\n",
        "plt.show()"
      ],
      "execution_count": 0,
      "outputs": [
        {
          "output_type": "display_data",
          "data": {
            "image/png": "[encoded data removed]",
            "text/plain": [
              "<Figure size 432x288 with 1 Axes>"
            ]
          },
          "metadata": {
            "tags": []
          }
        },
        {
          "output_type": "display_data",
          "data": {
            "image/png": "[encoded data removed]",
            "text/plain": [
              "<Figure size 432x288 with 1 Axes>"
            ]
          },
          "metadata": {
            "tags": []
          }
        }
      ]
    },
    {
      "cell_type": "code",
      "metadata": {
        "id": "OGxvm5Lo39YB",
        "colab_type": "code",
        "outputId": "997aab56-833f-4fa0-d980-cb556797e3d0",
        "colab": {
          "base_uri": "https://localhost:8080/",
          "height": 521
        }
      },
      "source": [
        "from sklearn import preprocessing\n",
        "from sklearn.preprocessing import StandardScaler\n",
        "from sklearn.decomposition import PCA\n",
        "\n",
        "min_max_scaler = preprocessing.StandardScaler()\n",
        "np_scaled = min_max_scaler.fit_transform(data2)\n",
        "\n",
        "data2 = pd.DataFrame(np_scaled)\n",
        "\n",
        "pca = PCA(n_components=2)\n",
        "data = pca.fit_transform(data2)\n",
        "\n",
        "# standardize these 2 new features\n",
        "min_max_scaler = preprocessing.StandardScaler()\n",
        "np_scaled = min_max_scaler.fit_transform(data)\n",
        "data = pd.DataFrame(np_scaled)\n",
        "\n",
        "n_cluster = range(1, 4)\n",
        "kmeans = [KMeans(n_clusters=i).fit(data2) for i in n_cluster]\n",
        "scores = [kmeans[i].score(data2) for i in range(len(kmeans))]\n",
        "fig, ax = plt.subplots()\n",
        "ax.plot(n_cluster, scores)\n",
        "plt.show()\n",
        "\n",
        "# if taking feature 0 and feature 1 as the principal components\n",
        "data['cluster'] = kmeans[2].predict(data2)\n",
        "data['principal_feature1'] = data[0]\n",
        "data['principal_feature2'] = data[1]\n",
        "data['cluster'].value_counts()\n",
        "\n",
        "\n",
        "fig, ax = plt.subplots()\n",
        "colors = {0:'red', 1:'blue', 2:'green', 3:'pink', 4:'black', 5:'cyan'}\n",
        "ax.scatter(data['principal_feature1'], data['principal_feature2'], \n",
        "           c=data[\"cluster\"].apply(lambda x: colors[x]))\n",
        "plt.show()"
      ],
      "execution_count": 0,
      "outputs": [
        {
          "output_type": "display_data",
          "data": {
            "image/png": "[encoded data removed]",
            "text/plain": [
              "<Figure size 432x288 with 1 Axes>"
            ]
          },
          "metadata": {
            "tags": []
          }
        },
        {
          "output_type": "display_data",
          "data": {
            "image/png": "[encoded data removed]",
            "text/plain": [
              "<Figure size 432x288 with 1 Axes>"
            ]
          },
          "metadata": {
            "tags": []
          }
        }
      ]
    },
    {
      "cell_type": "code",
      "metadata": {
        "id": "hlx2LnfOBCF_",
        "colab_type": "code",
        "colab": {}
      },
      "source": [
        ""
      ],
      "execution_count": 0,
      "outputs": []
    },
    {
      "cell_type": "code",
      "metadata": {
        "id": "aUPS9tCxs1w9",
        "colab_type": "code",
        "outputId": "f4bd6ec4-342d-4e1a-8bb3-6d5629a75411",
        "colab": {
          "base_uri": "https://localhost:8080/",
          "height": 211
        }
      },
      "source": [
        "# labels_kmeans = np.zeros_like(labels_kmeans)\n",
        "\n",
        "# Number of clusters in labels, ignoring noise if present.\n",
        "n_clusters_ = len(set(labels_kmns)) - (1 if -1 in labels else 0)\n",
        "n_noise_ = list(labels_kmns).count(-1)\n",
        "\n",
        "print('Estimated number of clusters: %d' % n_clusters_)\n",
        "print('Estimated number of noise points: %d' % n_noise_)\n",
        "print(\"Homogeneity: %0.3f\" % metrics.homogeneity_score(true_labels, labels_kmns))\n",
        "print(\"Completeness: %0.3f\" % metrics.completeness_score(true_labels, labels_kmns))\n",
        "print(\"V-measure: %0.3f\" % metrics.v_measure_score(true_labels, labels_kmns))\n",
        "print(\"Adjusted Rand Index: %0.3f\"\n",
        "      % metrics.adjusted_rand_score(true_labels, labels_kmns))\n",
        "print(\"Adjusted Mutual Information: %0.3f\"\n",
        "      % metrics.adjusted_mutual_info_score(true_labels, labels_kmns))\n",
        "print(\"Silhouette Coefficient: %0.3f\"\n",
        "      % metrics.silhouette_score(xtrain, labels_kmns))\n"
      ],
      "execution_count": 0,
      "outputs": [
        {
          "output_type": "stream",
          "text": [
            "Estimated number of clusters: 4\n",
            "Estimated number of noise points: 0\n",
            "Homogeneity: 0.260\n",
            "Completeness: 0.013\n",
            "V-measure: 0.024\n",
            "Adjusted Rand Index: 0.001\n",
            "Adjusted Mutual Information: 0.012\n"
          ],
          "name": "stdout"
        },
        {
          "output_type": "stream",
          "text": [
            "/usr/local/lib/python3.6/dist-packages/sklearn/metrics/cluster/supervised.py:732: FutureWarning: The behavior of AMI will change in version 0.22. To match the behavior of 'v_measure_score', AMI will use average_method='arithmetic' by default.\n",
            "  FutureWarning)\n"
          ],
          "name": "stderr"
        },
        {
          "output_type": "stream",
          "text": [
            "Silhouette Coefficient: 0.572\n"
          ],
          "name": "stdout"
        }
      ]
    },
    {
      "cell_type": "code",
      "metadata": {
        "id": "i9QwObvHq9-F",
        "colab_type": "code",
        "colab": {}
      },
      "source": [
        "from sklearn.cluster import DBSCAN\n",
        "import time\n",
        "\n",
        "t0 = time.time()\n",
        "\n",
        "clust3 = DBSCAN(eps=3, min_samples=4)\n",
        "y_dbscan = clust3.fit(xtrain)\n",
        "t0 = time.time()\n",
        "labels_dbscan = clust3.labels_"
      ],
      "execution_count": 0,
      "outputs": []
    },
    {
      "cell_type": "code",
      "metadata": {
        "id": "baMxQveAsTXm",
        "colab_type": "code",
        "outputId": "12a71b4c-8094-47bf-f773-922f4689bd04",
        "colab": {
          "base_uri": "https://localhost:8080/",
          "height": 35
        }
      },
      "source": [
        "from sklearn.metrics import accuracy_score\n",
        "accuracy_score(labels_dbscan, ytrain)"
      ],
      "execution_count": 0,
      "outputs": [
        {
          "output_type": "execute_result",
          "data": {
            "text/plain": [
              "0.5251599147121535"
            ]
          },
          "metadata": {
            "tags": []
          },
          "execution_count": 61
        }
      ]
    },
    {
      "cell_type": "code",
      "metadata": {
        "id": "v9aP5-1j5MMt",
        "colab_type": "code",
        "outputId": "fadb559a-ab4f-408c-eb95-e2bf55d92d3a",
        "colab": {
          "base_uri": "https://localhost:8080/",
          "height": 299
        }
      },
      "source": [
        "plt.scatter(xtrain.iloc[:,2], xtrain.iloc[:,3],c=labels_dbscan, cmap='Paired')\n",
        "plt.title(\"DBSCAN\")"
      ],
      "execution_count": 0,
      "outputs": [
        {
          "output_type": "execute_result",
          "data": {
            "text/plain": [
              "Text(0.5, 1.0, 'DBSCAN')"
            ]
          },
          "metadata": {
            "tags": []
          },
          "execution_count": 11
        },
        {
          "output_type": "display_data",
          "data": {
            "image/png": "[encoded data removed]",
            "text/plain": [
              "<Figure size 432x288 with 1 Axes>"
            ]
          },
          "metadata": {
            "tags": []
          }
        }
      ]
    },
    {
      "cell_type": "code",
      "metadata": {
        "id": "_maLF_ZSOBf0",
        "colab_type": "code",
        "outputId": "9816a321-f2f7-4c2e-ec85-7857228138cb",
        "colab": {
          "base_uri": "https://localhost:8080/",
          "height": 332
        }
      },
      "source": [
        "from sklearn.metrics import classification_report\n",
        "\n",
        "print(classification_report(true_labels, labels_dbscan))"
      ],
      "execution_count": 0,
      "outputs": [
        {
          "output_type": "stream",
          "text": [
            "              precision    recall  f1-score   support\n",
            "\n",
            "          -1       0.00      0.00      0.00         0\n",
            "           0       1.00      0.53      0.69      4632\n",
            "           1       1.00      0.40      0.57        58\n",
            "           2       0.00      0.00      0.00         0\n",
            "\n",
            "   micro avg       0.53      0.53      0.53      4690\n",
            "   macro avg       0.50      0.23      0.31      4690\n",
            "weighted avg       1.00      0.53      0.69      4690\n",
            "\n"
          ],
          "name": "stdout"
        },
        {
          "output_type": "stream",
          "text": [
            "/usr/local/lib/python3.6/dist-packages/sklearn/metrics/classification.py:1145: UndefinedMetricWarning: Recall and F-score are ill-defined and being set to 0.0 in labels with no true samples.\n",
            "  'recall', 'true', average, warn_for)\n",
            "/usr/local/lib/python3.6/dist-packages/sklearn/metrics/classification.py:1145: UndefinedMetricWarning: Recall and F-score are ill-defined and being set to 0.0 in labels with no true samples.\n",
            "  'recall', 'true', average, warn_for)\n",
            "/usr/local/lib/python3.6/dist-packages/sklearn/metrics/classification.py:1145: UndefinedMetricWarning: Recall and F-score are ill-defined and being set to 0.0 in labels with no true samples.\n",
            "  'recall', 'true', average, warn_for)\n"
          ],
          "name": "stderr"
        }
      ]
    },
    {
      "cell_type": "code",
      "metadata": {
        "id": "m1FPE9MQOHNU",
        "colab_type": "code",
        "outputId": "375cba03-1c19-4550-a708-16bf690a0739",
        "colab": {
          "base_uri": "https://localhost:8080/",
          "height": 89
        }
      },
      "source": [
        "from sklearn.metrics import precision_recall_fscore_support\n",
        "\n",
        "precision_recall_fscore_support(true_labels, labels_dbscan, average='macro')"
      ],
      "execution_count": 0,
      "outputs": [
        {
          "output_type": "stream",
          "text": [
            "/usr/local/lib/python3.6/dist-packages/sklearn/metrics/classification.py:1145: UndefinedMetricWarning: Recall and F-score are ill-defined and being set to 0.0 in labels with no true samples.\n",
            "  'recall', 'true', average, warn_for)\n"
          ],
          "name": "stderr"
        },
        {
          "output_type": "execute_result",
          "data": {
            "text/plain": [
              "(0.4998975829578042, 0.23083050443690073, 0.31446223074009494, None)"
            ]
          },
          "metadata": {
            "tags": []
          },
          "execution_count": 8
        }
      ]
    },
    {
      "cell_type": "code",
      "metadata": {
        "id": "IJKnvDZGUTt_",
        "colab_type": "code",
        "outputId": "b86db262-ee7f-4aae-f4e1-9ea98b06e460",
        "colab": {
          "base_uri": "https://localhost:8080/",
          "height": 89
        }
      },
      "source": [
        "from sklearn.metrics import f1_score\n",
        "f1_score(true_labels, labels_dbscan, average='macro') "
      ],
      "execution_count": 0,
      "outputs": [
        {
          "output_type": "stream",
          "text": [
            "/usr/local/lib/python3.6/dist-packages/sklearn/metrics/classification.py:1145: UndefinedMetricWarning: F-score is ill-defined and being set to 0.0 in labels with no true samples.\n",
            "  'recall', 'true', average, warn_for)\n"
          ],
          "name": "stderr"
        },
        {
          "output_type": "execute_result",
          "data": {
            "text/plain": [
              "0.31446223074009494"
            ]
          },
          "metadata": {
            "tags": []
          },
          "execution_count": 12
        }
      ]
    },
    {
      "cell_type": "code",
      "metadata": {
        "id": "Fx6w1d8BXLVt",
        "colab_type": "code",
        "outputId": "2ab276f1-b7d4-4ed0-b5db-58bcdee98297",
        "colab": {
          "base_uri": "https://localhost:8080/",
          "height": 35
        }
      },
      "source": [
        "from sklearn.metrics import average_precision_score\n",
        "average_precision_score(true_labels, labels_dbscan)"
      ],
      "execution_count": 0,
      "outputs": [
        {
          "output_type": "execute_result",
          "data": {
            "text/plain": [
              "0.013627270686497788"
            ]
          },
          "metadata": {
            "tags": []
          },
          "execution_count": 28
        }
      ]
    },
    {
      "cell_type": "code",
      "metadata": {
        "id": "rHFF1Ce91jUQ",
        "colab_type": "code",
        "colab": {}
      },
      "source": [
        "from  sklearn.cluster import Birch\n",
        "from sklearn import cluster\n",
        "\n",
        "birch = Birch(branching_factor=50, n_clusters=None, threshold=0.5, \n",
        "            compute_labels=True)\n",
        "y_brc = birch.fit(xtrain)\n",
        "labels_birch= birch.predict(xtrain)\n",
        "# labels_birch = birch.labels_"
      ],
      "execution_count": 0,
      "outputs": []
    },
    {
      "cell_type": "code",
      "metadata": {
        "id": "dTzg8EFT2o55",
        "colab_type": "code",
        "outputId": "05e26294-d0d7-45a4-c116-390916779101",
        "colab": {
          "base_uri": "https://localhost:8080/",
          "height": 35
        }
      },
      "source": [
        "from sklearn.metrics import accuracy_score\n",
        "accuracy_score(labels_birch, ytrain)"
      ],
      "execution_count": 0,
      "outputs": [
        {
          "output_type": "execute_result",
          "data": {
            "text/plain": [
              "0.00021321961620469082"
            ]
          },
          "metadata": {
            "tags": []
          },
          "execution_count": 29
        }
      ]
    },
    {
      "cell_type": "code",
      "metadata": {
        "id": "bhy4B4oZslVz",
        "colab_type": "code",
        "outputId": "bca4f80a-d756-4df9-e195-4069e636f2e2",
        "colab": {
          "base_uri": "https://localhost:8080/",
          "height": 260
        }
      },
      "source": [
        "import pandas as pd\n",
        "import numpy as np\n",
        "import matplotlib.pyplot as plt\n",
        "\n",
        "from sklearn.cluster import KMeans\n",
        "from sklearn.preprocessing import LabelEncoder\n",
        "from sklearn.preprocessing import MinMaxScaler\n",
        "import seaborn as sns\n",
        "from sklearn.metrics import f1_score, precision_score, recall_score\n",
        "\n",
        "\n",
        "data = pd.read_csv('/content/gdrive/My Drive/Colab Notebooks/ASSIGNMENTS/FA_assignment/multihop-outdoor-moteid1-data-converted_wo_head.csv', \n",
        "                   delimiter= ',')\n",
        "print(data.head(10))\n",
        "\n",
        "\n",
        "xtrain = data.iloc[:, 0:-1]\n",
        "ytrain = data.iloc[:, -1]\n",
        "\n",
        "true_labels = np.array(ytrain)\n",
        "kmeans = KMeans(n_clusters=2, random_state=0)\n",
        "clusters = kmeans.fit(xtrain)\n",
        "kmeans.cluster_centers_.shape\n",
        "labels_kmeans = clusters.labels_\n",
        "\n",
        "print('Precision Score:', precision_score(true_labels, labels_kmeans, average='macro'))\n",
        "print('Recall Score:', recall_score(true_labels, labels_kmeans, average='macro'))\n",
        "print('F1 Score:', f1_score(true_labels, labels_kmeans, average='macro'))"
      ],
      "execution_count": 0,
      "outputs": [
        {
          "output_type": "stream",
          "text": [
            "   Reading#  Mote ID  Humidity  Tepmrature  Label\n",
            "0         1        1     43.82       30.21      0\n",
            "1         2        1     43.79       30.20      0\n",
            "2         3        1     43.79       30.19      0\n",
            "3         4        1     43.79       30.19      0\n",
            "4         5        1     43.79       30.19      0\n",
            "5         6        1     43.79       30.19      0\n",
            "6         7        1     43.79       30.19      0\n",
            "7         8        1     43.79       30.19      0\n",
            "8         9        1     43.79       30.21      0\n",
            "9        10        1     43.79       30.22      0\n",
            "Precision Score: 0.5123667377398721\n",
            "Recall Score: 0.7531303972366148\n",
            "F1 Score: 0.3602408388873709\n"
          ],
          "name": "stdout"
        }
      ]
    },
    {
      "cell_type": "code",
      "metadata": {
        "id": "u6G5Wrz_8DPJ",
        "colab_type": "code",
        "outputId": "a7b5ff34-1d97-4ada-f618-73b17dfc2257",
        "colab": {
          "base_uri": "https://localhost:8080/",
          "height": 349
        }
      },
      "source": [
        "import pandas as pd\n",
        "import numpy as np\n",
        "import matplotlib.pyplot as plt\n",
        "\n",
        "data = pd.read_csv('/content/gdrive/My Drive/Colab Notebooks/ASSIGNMENTS/FA_assignment/multihop-outdoor-moteid1-data-converted_wo_head.csv', \n",
        "                   delimiter= ',')\n",
        "print(data.head(10))\n",
        "\n",
        "\n",
        "xtrain = data.iloc[:, 0:-1]\n",
        "ytrain = data.iloc[:, -1]\n",
        "\n",
        "true_labels = np.array(ytrain)\n",
        "\n",
        "\n",
        "from sklearn.metrics import f1_score, precision_score, recall_score\n",
        "from sklearn.cluster import DBSCAN\n",
        "import time\n",
        "\n",
        "# t0 = time.time()\n",
        "\n",
        "clust3 = DBSCAN(eps=7, min_samples=4)\n",
        "y_dbscan = clust3.fit(xtrain)\n",
        "# t0 = time.time()\n",
        "labels_dbscan = clust3.labels_\n",
        "\n",
        "from sklearn.metrics import accuracy_score\n",
        "accuracy_score(labels_dbscan, ytrain)\n",
        "\n",
        "print('Precision Score:', precision_score(true_labels, labels_dbscan, average='macro'))\n",
        "print('Recall Score:', recall_score(true_labels, labels_dbscan, average='macro'))\n",
        "print('F1 Score:', f1_score(true_labels, labels_dbscan, average='macro'))"
      ],
      "execution_count": 0,
      "outputs": [
        {
          "output_type": "stream",
          "text": [
            "   Reading#  Mote ID  Humidity  Tepmrature  Label\n",
            "0         1        1     43.82       30.21      0\n",
            "1         2        1     43.79       30.20      0\n",
            "2         3        1     43.79       30.19      0\n",
            "3         4        1     43.79       30.19      0\n",
            "4         5        1     43.79       30.19      0\n",
            "5         6        1     43.79       30.19      0\n",
            "6         7        1     43.79       30.19      0\n",
            "7         8        1     43.79       30.19      0\n",
            "8         9        1     43.79       30.21      0\n",
            "9        10        1     43.79       30.22      0\n",
            "Precision Score: 0.4998975829578042\n",
            "Recall Score: 0.1489339527127628\n",
            "F1 Score: 0.20474498661424864\n"
          ],
          "name": "stdout"
        },
        {
          "output_type": "stream",
          "text": [
            "/usr/local/lib/python3.6/dist-packages/sklearn/metrics/classification.py:1145: UndefinedMetricWarning: Recall is ill-defined and being set to 0.0 in labels with no true samples.\n",
            "  'recall', 'true', average, warn_for)\n",
            "/usr/local/lib/python3.6/dist-packages/sklearn/metrics/classification.py:1145: UndefinedMetricWarning: F-score is ill-defined and being set to 0.0 in labels with no true samples.\n",
            "  'recall', 'true', average, warn_for)\n"
          ],
          "name": "stderr"
        }
      ]
    }
  ]
}